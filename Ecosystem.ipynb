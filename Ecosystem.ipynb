{
 "cells": [
  {
   "cell_type": "code",
   "execution_count": 1,
   "id": "dd2bca11",
   "metadata": {},
   "outputs": [],
   "source": [
    "import plotly.express as px\n",
    "\n",
    "# Library for data manipulation and analysis\n",
    "import pandas as pd\n",
    "\n",
    "# Importing dash componants\n",
    "import dash\n",
    "from jupyter_dash import JupyterDash\n",
    "\n",
    "# For using dash components\n",
    "from dash import dcc\n",
    "\n",
    "# use of html tags like div\n",
    "from dash import html\n",
    "\n",
    "# For call back\n",
    "from dash.dependencies import Output, Input\n",
    "\n",
    "# For displaying the structural elements\n",
    "import dash_bootstrap_components as dbc"
   ]
  },
  {
   "cell_type": "code",
   "execution_count": 3,
   "id": "081b816d",
   "metadata": {},
   "outputs": [],
   "source": [
    "# Load data\n",
    "df = pd.read_excel(r'C:\\Users\\archa\\Documents\\Archana\\IIS_GoogleDrive\\IIS\\Thesis\\Julius\\Application\\Data\\Data.xlsx',\n",
    "                   header=1,skiprows=1, names=['Roles','Actors','Resources','Activities','value contribution in ecosystem','Value contribution for the actors','Dependency','RoleInfo'])\n",
    "\n",
    "# Saving 4 elements into single column. This makes it easy to display the data\n",
    "df = pd.melt(df, id_vars=['Roles','Actors','Dependency','RoleInfo'], \n",
    "             value_vars=['Resources','Activities','value contribution in ecosystem','Value contribution for the actors'],\n",
    "             var_name='results',value_name='StructuralEements')\n"
   ]
  },
  {
   "cell_type": "code",
   "execution_count": 4,
   "id": "0bb2604d",
   "metadata": {},
   "outputs": [
    {
     "name": "stdout",
     "output_type": "stream",
     "text": [
      "Dash app running on http://127.0.0.1:8025/\n"
     ]
    }
   ],
   "source": [
    "# Build App\n",
    "app = JupyterDash(__name__, external_stylesheets=[dbc.themes.BOOTSTRAP])\n",
    "server = app.server\n",
    "\n",
    "app.layout = dbc.Container([\n",
    "#     Creating treemap \n",
    "    dcc.Graph(id='treemap',\n",
    "             figure= px.treemap(df,\n",
    "                                 path=[px.Constant('Ecosystem'),'Roles','Actors'],\n",
    "                                values='Dependency',\n",
    "                                 height=600, width=1450).update_layout(margin=dict(t=25, r=0, l=5, b=20))\n",
    "              ),\n",
    "#     Div to display the elements. This will be empty till a brach is cliked in treemap\n",
    "    dbc.Row([\n",
    "    dbc.Col([html.Div(id='Elementscontainer')], width=12)\n",
    "    ])\n",
    "\n",
    "], fluid=True)\n",
    "\n",
    "# Define callback to display the structural elememts\n",
    "@app.callback(   \n",
    "    Output(\"Elementscontainer\", \"children\"),\n",
    "    Input(\"treemap\",\"clickData\")\n",
    ")\n",
    "\n",
    "def update_modal(data):\n",
    "    #if black frame of treemap, don't update    \n",
    "    if data is None:\n",
    "        return dash.no_update \n",
    "    \n",
    "    #if no currentpath or ecosystem is chosen, don't update   \n",
    "    elif data['points'][0].get('currentPath') is None \\\n",
    "            or data['points'][0]['percentRoot'] == 1: \n",
    "        table_header = \" \"\n",
    "        table_body = \" \"\n",
    "        return dbc.Table(table_header + table_body, bordered=False)\n",
    "    \n",
    "    #if Role is chosen (ecosystem is parent), don't update\n",
    "    elif data['points'][0]['label'] in df.Roles.unique():         \n",
    "        label_slct = data['points'][0]['label']\n",
    "        parent_slct = data['points'][0]['parent'] \n",
    "        #Filtering data for the seleced role\n",
    "        dff = df[(df.Roles == label_slct)]         \n",
    "        # create the table\n",
    "        table_header = [html.Thead(html.Tr([html.Th(label_slct)]))]\n",
    "        table_body = [html.Tbody(dff[\"RoleInfo\"].unique())]\n",
    "        return dbc.Table(table_header + table_body, bordered=True)\n",
    "    \n",
    "    # if Actor is chosen, build table \n",
    "    else:        \n",
    "        label_slct = data['points'][0]['label']\n",
    "        parent_slct = data['points'][0]['parent']   \n",
    "        #Filtering data for selected actor\n",
    "        dff = df[(df.Roles == parent_slct) & (df[\"Actors\"] == label_slct)]        \n",
    "        # create the table\n",
    "        table_header = [html.Thead(html.Tr([html.Th(label_slct)]))]\n",
    "        rows=[]\n",
    "        for x in dff[\"StructuralEements\"]:\n",
    "            if pd.isnull(x):\n",
    "                continue \n",
    "            rows.append(html.Tr([html.Td(x)]))\n",
    "        table_body = [html.Tbody(rows)]\n",
    "        return dbc.Table(table_header + table_body, bordered=True)\n",
    "    \n",
    "app.run_server(mode='external', port=8025)\n",
    "# app.run_server(mode='inline')"
   ]
  },
  {
   "cell_type": "code",
   "execution_count": null,
   "id": "30a9d185",
   "metadata": {},
   "outputs": [],
   "source": []
  }
 ],
 "metadata": {
  "kernelspec": {
   "display_name": "NewVEKernel",
   "language": "python",
   "name": "newvekernel"
  },
  "language_info": {
   "codemirror_mode": {
    "name": "ipython",
    "version": 3
   },
   "file_extension": ".py",
   "mimetype": "text/x-python",
   "name": "python",
   "nbconvert_exporter": "python",
   "pygments_lexer": "ipython3",
   "version": "3.9.7"
  }
 },
 "nbformat": 4,
 "nbformat_minor": 5
}
